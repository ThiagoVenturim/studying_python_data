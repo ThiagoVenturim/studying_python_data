{
  "cells": [
    {
      "cell_type": "markdown",
      "metadata": {
        "colab_type": "text",
        "id": "view-in-github"
      },
      "source": [
        "<a href=\"https://colab.research.google.com/github/ThiagoVenturim/studying_python_data/blob/main/Alura/AluraAula1.ipynb\" target=\"_parent\"><img src=\"https://colab.research.google.com/assets/colab-badge.svg\" alt=\"Open In Colab\"/></a>"
      ]
    },
    {
      "cell_type": "markdown",
      "metadata": {
        "id": "Wgv9gUuK1zTF"
      },
      "source": [
        "# Parte 1\n",
        "\n"
      ]
    },
    {
      "cell_type": "code",
      "execution_count": 1,
      "metadata": {
        "id": "p5Fx5BXWWn6k"
      },
      "outputs": [
        {
          "name": "stderr",
          "output_type": "stream",
          "text": [
            "Matplotlib is building the font cache; this may take a moment.\n"
          ]
        }
      ],
      "source": [
        "import pandas as pd\n",
        "import numpy as np\n",
        "import matplotlib.pyplot as plt\n",
        "import seaborn as sns\n",
        "import plotly.express as px"
      ]
    },
    {
      "cell_type": "code",
      "execution_count": 2,
      "metadata": {
        "colab": {
          "base_uri": "https://localhost:8080/",
          "height": 206
        },
        "id": "m4ECYkEQWq28",
        "outputId": "e303ef85-e640-49d2-81ce-64f56b1d5644"
      },
      "outputs": [
        {
          "data": {
            "text/html": [
              "<div>\n",
              "<style scoped>\n",
              "    .dataframe tbody tr th:only-of-type {\n",
              "        vertical-align: middle;\n",
              "    }\n",
              "\n",
              "    .dataframe tbody tr th {\n",
              "        vertical-align: top;\n",
              "    }\n",
              "\n",
              "    .dataframe thead th {\n",
              "        text-align: right;\n",
              "    }\n",
              "</style>\n",
              "<table border=\"1\" class=\"dataframe\">\n",
              "  <thead>\n",
              "    <tr style=\"text-align: right;\">\n",
              "      <th></th>\n",
              "      <th>work_year</th>\n",
              "      <th>experience_level</th>\n",
              "      <th>employment_type</th>\n",
              "      <th>job_title</th>\n",
              "      <th>salary</th>\n",
              "      <th>salary_currency</th>\n",
              "      <th>salary_in_usd</th>\n",
              "      <th>employee_residence</th>\n",
              "      <th>remote_ratio</th>\n",
              "      <th>company_location</th>\n",
              "      <th>company_size</th>\n",
              "    </tr>\n",
              "  </thead>\n",
              "  <tbody>\n",
              "    <tr>\n",
              "      <th>0</th>\n",
              "      <td>2025.0</td>\n",
              "      <td>SE</td>\n",
              "      <td>FT</td>\n",
              "      <td>Solutions Engineer</td>\n",
              "      <td>214000</td>\n",
              "      <td>USD</td>\n",
              "      <td>214000</td>\n",
              "      <td>US</td>\n",
              "      <td>100</td>\n",
              "      <td>US</td>\n",
              "      <td>M</td>\n",
              "    </tr>\n",
              "    <tr>\n",
              "      <th>1</th>\n",
              "      <td>2025.0</td>\n",
              "      <td>SE</td>\n",
              "      <td>FT</td>\n",
              "      <td>Solutions Engineer</td>\n",
              "      <td>136000</td>\n",
              "      <td>USD</td>\n",
              "      <td>136000</td>\n",
              "      <td>US</td>\n",
              "      <td>100</td>\n",
              "      <td>US</td>\n",
              "      <td>M</td>\n",
              "    </tr>\n",
              "    <tr>\n",
              "      <th>2</th>\n",
              "      <td>2025.0</td>\n",
              "      <td>MI</td>\n",
              "      <td>FT</td>\n",
              "      <td>Data Engineer</td>\n",
              "      <td>158800</td>\n",
              "      <td>USD</td>\n",
              "      <td>158800</td>\n",
              "      <td>AU</td>\n",
              "      <td>0</td>\n",
              "      <td>AU</td>\n",
              "      <td>M</td>\n",
              "    </tr>\n",
              "    <tr>\n",
              "      <th>3</th>\n",
              "      <td>2025.0</td>\n",
              "      <td>MI</td>\n",
              "      <td>FT</td>\n",
              "      <td>Data Engineer</td>\n",
              "      <td>139200</td>\n",
              "      <td>USD</td>\n",
              "      <td>139200</td>\n",
              "      <td>AU</td>\n",
              "      <td>0</td>\n",
              "      <td>AU</td>\n",
              "      <td>M</td>\n",
              "    </tr>\n",
              "    <tr>\n",
              "      <th>4</th>\n",
              "      <td>2025.0</td>\n",
              "      <td>EN</td>\n",
              "      <td>FT</td>\n",
              "      <td>Data Engineer</td>\n",
              "      <td>90000</td>\n",
              "      <td>USD</td>\n",
              "      <td>90000</td>\n",
              "      <td>US</td>\n",
              "      <td>0</td>\n",
              "      <td>US</td>\n",
              "      <td>M</td>\n",
              "    </tr>\n",
              "  </tbody>\n",
              "</table>\n",
              "</div>"
            ],
            "text/plain": [
              "   work_year experience_level employment_type           job_title  salary  \\\n",
              "0     2025.0               SE              FT  Solutions Engineer  214000   \n",
              "1     2025.0               SE              FT  Solutions Engineer  136000   \n",
              "2     2025.0               MI              FT       Data Engineer  158800   \n",
              "3     2025.0               MI              FT       Data Engineer  139200   \n",
              "4     2025.0               EN              FT       Data Engineer   90000   \n",
              "\n",
              "  salary_currency  salary_in_usd employee_residence  remote_ratio  \\\n",
              "0             USD         214000                 US           100   \n",
              "1             USD         136000                 US           100   \n",
              "2             USD         158800                 AU             0   \n",
              "3             USD         139200                 AU             0   \n",
              "4             USD          90000                 US             0   \n",
              "\n",
              "  company_location company_size  \n",
              "0               US            M  \n",
              "1               US            M  \n",
              "2               AU            M  \n",
              "3               AU            M  \n",
              "4               US            M  "
            ]
          },
          "execution_count": 2,
          "metadata": {},
          "output_type": "execute_result"
        }
      ],
      "source": [
        "df = pd.read_csv(\"https://raw.githubusercontent.com/guilhermeonrails/data-jobs/refs/heads/main/salaries.csv\")\n",
        "\n",
        "df.head(5)\n",
        "\n"
      ]
    },
    {
      "cell_type": "code",
      "execution_count": 3,
      "metadata": {
        "colab": {
          "base_uri": "https://localhost:8080/"
        },
        "id": "sq1FNFiFYYMv",
        "outputId": "0b10e08c-6a4e-4960-bb9e-8fc9577ee789"
      },
      "outputs": [
        {
          "name": "stdout",
          "output_type": "stream",
          "text": [
            "<class 'pandas.core.frame.DataFrame'>\n",
            "RangeIndex: 133349 entries, 0 to 133348\n",
            "Data columns (total 11 columns):\n",
            " #   Column              Non-Null Count   Dtype  \n",
            "---  ------              --------------   -----  \n",
            " 0   work_year           133339 non-null  float64\n",
            " 1   experience_level    133349 non-null  object \n",
            " 2   employment_type     133349 non-null  object \n",
            " 3   job_title           133349 non-null  object \n",
            " 4   salary              133349 non-null  int64  \n",
            " 5   salary_currency     133349 non-null  object \n",
            " 6   salary_in_usd       133349 non-null  int64  \n",
            " 7   employee_residence  133349 non-null  object \n",
            " 8   remote_ratio        133349 non-null  int64  \n",
            " 9   company_location    133349 non-null  object \n",
            " 10  company_size        133349 non-null  object \n",
            "dtypes: float64(1), int64(3), object(7)\n",
            "memory usage: 11.2+ MB\n"
          ]
        }
      ],
      "source": [
        "\n",
        "df.info()"
      ]
    },
    {
      "cell_type": "code",
      "execution_count": 4,
      "metadata": {
        "colab": {
          "base_uri": "https://localhost:8080/",
          "height": 300
        },
        "id": "Yyw44P-FY9r8",
        "outputId": "2cb0c556-20f1-4808-c50c-357282accbac"
      },
      "outputs": [
        {
          "data": {
            "text/html": [
              "<div>\n",
              "<style scoped>\n",
              "    .dataframe tbody tr th:only-of-type {\n",
              "        vertical-align: middle;\n",
              "    }\n",
              "\n",
              "    .dataframe tbody tr th {\n",
              "        vertical-align: top;\n",
              "    }\n",
              "\n",
              "    .dataframe thead th {\n",
              "        text-align: right;\n",
              "    }\n",
              "</style>\n",
              "<table border=\"1\" class=\"dataframe\">\n",
              "  <thead>\n",
              "    <tr style=\"text-align: right;\">\n",
              "      <th></th>\n",
              "      <th>work_year</th>\n",
              "      <th>salary</th>\n",
              "      <th>salary_in_usd</th>\n",
              "      <th>remote_ratio</th>\n",
              "    </tr>\n",
              "  </thead>\n",
              "  <tbody>\n",
              "    <tr>\n",
              "      <th>count</th>\n",
              "      <td>133339.000000</td>\n",
              "      <td>1.333490e+05</td>\n",
              "      <td>133349.000000</td>\n",
              "      <td>133349.000000</td>\n",
              "    </tr>\n",
              "    <tr>\n",
              "      <th>mean</th>\n",
              "      <td>2024.358770</td>\n",
              "      <td>1.632833e+05</td>\n",
              "      <td>157617.272098</td>\n",
              "      <td>20.905669</td>\n",
              "    </tr>\n",
              "    <tr>\n",
              "      <th>std</th>\n",
              "      <td>0.680627</td>\n",
              "      <td>2.173860e+05</td>\n",
              "      <td>74288.363097</td>\n",
              "      <td>40.590044</td>\n",
              "    </tr>\n",
              "    <tr>\n",
              "      <th>min</th>\n",
              "      <td>2020.000000</td>\n",
              "      <td>1.400000e+04</td>\n",
              "      <td>15000.000000</td>\n",
              "      <td>0.000000</td>\n",
              "    </tr>\n",
              "    <tr>\n",
              "      <th>25%</th>\n",
              "      <td>2024.000000</td>\n",
              "      <td>1.060200e+05</td>\n",
              "      <td>106000.000000</td>\n",
              "      <td>0.000000</td>\n",
              "    </tr>\n",
              "    <tr>\n",
              "      <th>50%</th>\n",
              "      <td>2024.000000</td>\n",
              "      <td>1.470000e+05</td>\n",
              "      <td>146206.000000</td>\n",
              "      <td>0.000000</td>\n",
              "    </tr>\n",
              "    <tr>\n",
              "      <th>75%</th>\n",
              "      <td>2025.000000</td>\n",
              "      <td>1.990000e+05</td>\n",
              "      <td>198000.000000</td>\n",
              "      <td>0.000000</td>\n",
              "    </tr>\n",
              "    <tr>\n",
              "      <th>max</th>\n",
              "      <td>2025.000000</td>\n",
              "      <td>3.040000e+07</td>\n",
              "      <td>800000.000000</td>\n",
              "      <td>100.000000</td>\n",
              "    </tr>\n",
              "  </tbody>\n",
              "</table>\n",
              "</div>"
            ],
            "text/plain": [
              "           work_year        salary  salary_in_usd   remote_ratio\n",
              "count  133339.000000  1.333490e+05  133349.000000  133349.000000\n",
              "mean     2024.358770  1.632833e+05  157617.272098      20.905669\n",
              "std         0.680627  2.173860e+05   74288.363097      40.590044\n",
              "min      2020.000000  1.400000e+04   15000.000000       0.000000\n",
              "25%      2024.000000  1.060200e+05  106000.000000       0.000000\n",
              "50%      2024.000000  1.470000e+05  146206.000000       0.000000\n",
              "75%      2025.000000  1.990000e+05  198000.000000       0.000000\n",
              "max      2025.000000  3.040000e+07  800000.000000     100.000000"
            ]
          },
          "execution_count": 4,
          "metadata": {},
          "output_type": "execute_result"
        }
      ],
      "source": [
        "df.describe()"
      ]
    },
    {
      "cell_type": "code",
      "execution_count": 5,
      "metadata": {
        "colab": {
          "base_uri": "https://localhost:8080/"
        },
        "id": "JQ-y3iP9YRjM",
        "outputId": "7de2cba3-361b-404d-b690-c64390daf44b"
      },
      "outputs": [
        {
          "name": "stdout",
          "output_type": "stream",
          "text": [
            "O dataframe possui 133349 linhas e 11 colunas.\n"
          ]
        }
      ],
      "source": [
        "linhas, colunas = df.shape # passar as informações do shape para as variaveis\n",
        "print(f\"O dataframe possui {linhas} linhas e {colunas} colunas.\")"
      ]
    },
    {
      "cell_type": "code",
      "execution_count": 6,
      "metadata": {
        "colab": {
          "base_uri": "https://localhost:8080/"
        },
        "id": "3ImnzU3RauZc",
        "outputId": "1c0ec590-acb4-4c8b-fa04-4a5adc90230c"
      },
      "outputs": [
        {
          "data": {
            "text/plain": [
              "Index(['work_year', 'experience_level', 'employment_type', 'job_title',\n",
              "       'salary', 'salary_currency', 'salary_in_usd', 'employee_residence',\n",
              "       'remote_ratio', 'company_location', 'company_size'],\n",
              "      dtype='object')"
            ]
          },
          "execution_count": 6,
          "metadata": {},
          "output_type": "execute_result"
        }
      ],
      "source": [
        "df.columns #verificar o nome das colunas"
      ]
    },
    {
      "cell_type": "code",
      "execution_count": 7,
      "metadata": {
        "colab": {
          "base_uri": "https://localhost:8080/"
        },
        "id": "2o57K3L0cJjN",
        "outputId": "0d0bc65a-b23b-4c22-808d-60e12e468990"
      },
      "outputs": [
        {
          "data": {
            "text/plain": [
              "Index(['ano_de_trabalho', 'nível_de_experiência', 'tipo_de_emprego',\n",
              "       'cargo_profissional', 'salário', 'moeda_do_salário', 'salário_em_usd',\n",
              "       'residência_do_funcionário', 'proporção_remota', 'local_da_empresa',\n",
              "       'porte_da_empresa'],\n",
              "      dtype='object')"
            ]
          },
          "execution_count": 7,
          "metadata": {},
          "output_type": "execute_result"
        }
      ],
      "source": [
        "renomear ={ #criei um dicionario para traduzir\n",
        "    'work_year': 'ano_de_trabalho',\n",
        "    'experience_level': 'nível_de_experiência',\n",
        "    'employment_type': 'tipo_de_emprego',\n",
        "    'job_title': 'cargo_profissional',\n",
        "    'salary': 'salário',\n",
        "    'salary_currency': 'moeda_do_salário',\n",
        "    'salary_in_usd': 'salário_em_usd',\n",
        "    'employee_residence': 'residência_do_funcionário',\n",
        "    'remote_ratio': 'proporção_remota',\n",
        "    'company_location': 'local_da_empresa',\n",
        "    'company_size': 'porte_da_empresa'\n",
        "    }\n",
        "\n",
        "df.rename(columns=renomear, inplace=True) #usei o rename para renomear\n",
        "df.columns"
      ]
    },
    {
      "cell_type": "code",
      "execution_count": 8,
      "metadata": {
        "colab": {
          "base_uri": "https://localhost:8080/",
          "height": 241
        },
        "id": "xpMe0pZLeG5g",
        "outputId": "78e71094-c7d6-480b-c51f-b1120a0a9e97"
      },
      "outputs": [
        {
          "data": {
            "text/plain": [
              "nível_de_experiência\n",
              "SE    77241\n",
              "MI    40465\n",
              "EN    12443\n",
              "EX     3200\n",
              "Name: count, dtype: int64"
            ]
          },
          "execution_count": 8,
          "metadata": {},
          "output_type": "execute_result"
        }
      ],
      "source": [
        "df[\"nível_de_experiência\"].value_counts()"
      ]
    },
    {
      "cell_type": "code",
      "execution_count": 9,
      "metadata": {
        "colab": {
          "base_uri": "https://localhost:8080/",
          "height": 241
        },
        "id": "PEbwD4RMf_TI",
        "outputId": "3f3f8dea-8978-487f-b92c-7286c793b499"
      },
      "outputs": [
        {
          "data": {
            "text/plain": [
              "tipo_de_emprego\n",
              "FT    132563\n",
              "CT       394\n",
              "PT       376\n",
              "FL        16\n",
              "Name: count, dtype: int64"
            ]
          },
          "execution_count": 9,
          "metadata": {},
          "output_type": "execute_result"
        }
      ],
      "source": [
        "df[\"tipo_de_emprego\"].value_counts()"
      ]
    },
    {
      "cell_type": "code",
      "execution_count": 10,
      "metadata": {
        "colab": {
          "base_uri": "https://localhost:8080/",
          "height": 209
        },
        "id": "fSczojFcgdF9",
        "outputId": "cd99231e-8e05-4ed8-de48-a2b7e55dcdf9"
      },
      "outputs": [
        {
          "data": {
            "text/plain": [
              "proporção_remota\n",
              "0      105312\n",
              "100     27718\n",
              "50        319\n",
              "Name: count, dtype: int64"
            ]
          },
          "execution_count": 10,
          "metadata": {},
          "output_type": "execute_result"
        }
      ],
      "source": [
        "df[\"proporção_remota\"].value_counts()"
      ]
    },
    {
      "cell_type": "code",
      "execution_count": 11,
      "metadata": {
        "colab": {
          "base_uri": "https://localhost:8080/",
          "height": 209
        },
        "id": "qF98Baz0iau2",
        "outputId": "7559fc33-15ab-41c1-e662-6319c33278ea"
      },
      "outputs": [
        {
          "data": {
            "text/plain": [
              "proporção_remota\n",
              "Remoto         105312\n",
              "Presencial      27718\n",
              "Semi-Remoto       319\n",
              "Name: count, dtype: int64"
            ]
          },
          "execution_count": 11,
          "metadata": {},
          "output_type": "execute_result"
        }
      ],
      "source": [
        "remoto = {\n",
        "    0: \"Remoto\",\n",
        "    50: \"Semi-Remoto\",\n",
        "    100: \"Presencial\"\n",
        "}\n",
        "df[\"proporção_remota\"] = df[\"proporção_remota\"].map(remoto)\n",
        "df[\"proporção_remota\"].value_counts()"
      ]
    },
    {
      "cell_type": "code",
      "execution_count": 12,
      "metadata": {
        "colab": {
          "base_uri": "https://localhost:8080/",
          "height": 241
        },
        "id": "mWn2OebUjBqT",
        "outputId": "244070c4-236b-4774-a271-fc331f3ea28c"
      },
      "outputs": [
        {
          "data": {
            "text/plain": [
              "nível_de_experiência\n",
              "Sênior       77241\n",
              "Pleno        40465\n",
              "Junior       12443\n",
              "Executivo     3200\n",
              "Name: count, dtype: int64"
            ]
          },
          "execution_count": 12,
          "metadata": {},
          "output_type": "execute_result"
        }
      ],
      "source": [
        "senioridade = {\n",
        "    \"EN\": \"Junior\",\n",
        "    \"MI\": \"Pleno\",\n",
        "    \"SE\": \"Sênior\",\n",
        "    \"EX\": \"Executivo\"\n",
        "}\n",
        "df[\"nível_de_experiência\"] = df[\"nível_de_experiência\"].replace(senioridade)\n",
        "df[\"nível_de_experiência\"].value_counts()\n"
      ]
    },
    {
      "cell_type": "code",
      "execution_count": 13,
      "metadata": {
        "colab": {
          "base_uri": "https://localhost:8080/",
          "height": 241
        },
        "id": "ywoCbWKlkv2k",
        "outputId": "7eb4a15e-46cd-4a8c-a49a-195a516b6901"
      },
      "outputs": [
        {
          "data": {
            "text/plain": [
              "tipo_de_emprego\n",
              "Tempo Integral    132563\n",
              "Contrato             394\n",
              "Tempo Parcial        376\n",
              "Freelance             16\n",
              "Name: count, dtype: int64"
            ]
          },
          "execution_count": 13,
          "metadata": {},
          "output_type": "execute_result"
        }
      ],
      "source": [
        "emprego_tipo= {\n",
        "    \"FT\": \"Tempo Integral\",\n",
        "     \"PT\": \"Tempo Parcial\",\n",
        "     \"FL\": \"Freelance\",\n",
        "     \"CT\": \"Contrato\"\n",
        "}\n",
        "df[\"tipo_de_emprego\"]= df[\"tipo_de_emprego\"].replace(emprego_tipo)\n",
        "df[\"tipo_de_emprego\"].value_counts()"
      ]
    },
    {
      "cell_type": "code",
      "execution_count": 14,
      "metadata": {
        "colab": {
          "base_uri": "https://localhost:8080/",
          "height": 209
        },
        "id": "QEuUTFgpjS3L",
        "outputId": "0c19e1f8-98a1-4c46-a56e-58b5ac46929d"
      },
      "outputs": [
        {
          "data": {
            "text/plain": [
              "porte_da_empresa\n",
              "Médio      129561\n",
              "Grande       3574\n",
              "Pequeno       214\n",
              "Name: count, dtype: int64"
            ]
          },
          "execution_count": 14,
          "metadata": {},
          "output_type": "execute_result"
        }
      ],
      "source": [
        "tamanho_da_empresa= {\n",
        "    \"S\": \"Pequeno\",\n",
        "    \"M\": \"Médio\",\n",
        "    \"L\": \"Grande\"\n",
        "}\n",
        "\n",
        "df[\"porte_da_empresa\"] = df[\"porte_da_empresa\"].replace(tamanho_da_empresa)\n",
        "df[\"porte_da_empresa\"].value_counts()"
      ]
    },
    {
      "cell_type": "code",
      "execution_count": 15,
      "metadata": {
        "colab": {
          "base_uri": "https://localhost:8080/",
          "height": 226
        },
        "id": "wBPyQLXGkRlN",
        "outputId": "9223e858-6e7a-4808-a1fa-95b3f96217cb"
      },
      "outputs": [
        {
          "data": {
            "text/html": [
              "<div>\n",
              "<style scoped>\n",
              "    .dataframe tbody tr th:only-of-type {\n",
              "        vertical-align: middle;\n",
              "    }\n",
              "\n",
              "    .dataframe tbody tr th {\n",
              "        vertical-align: top;\n",
              "    }\n",
              "\n",
              "    .dataframe thead th {\n",
              "        text-align: right;\n",
              "    }\n",
              "</style>\n",
              "<table border=\"1\" class=\"dataframe\">\n",
              "  <thead>\n",
              "    <tr style=\"text-align: right;\">\n",
              "      <th></th>\n",
              "      <th>ano_de_trabalho</th>\n",
              "      <th>nível_de_experiência</th>\n",
              "      <th>tipo_de_emprego</th>\n",
              "      <th>cargo_profissional</th>\n",
              "      <th>salário</th>\n",
              "      <th>moeda_do_salário</th>\n",
              "      <th>salário_em_usd</th>\n",
              "      <th>residência_do_funcionário</th>\n",
              "      <th>proporção_remota</th>\n",
              "      <th>local_da_empresa</th>\n",
              "      <th>porte_da_empresa</th>\n",
              "    </tr>\n",
              "  </thead>\n",
              "  <tbody>\n",
              "    <tr>\n",
              "      <th>0</th>\n",
              "      <td>2025.0</td>\n",
              "      <td>Sênior</td>\n",
              "      <td>Tempo Integral</td>\n",
              "      <td>Solutions Engineer</td>\n",
              "      <td>214000</td>\n",
              "      <td>USD</td>\n",
              "      <td>214000</td>\n",
              "      <td>US</td>\n",
              "      <td>Presencial</td>\n",
              "      <td>US</td>\n",
              "      <td>Médio</td>\n",
              "    </tr>\n",
              "    <tr>\n",
              "      <th>1</th>\n",
              "      <td>2025.0</td>\n",
              "      <td>Sênior</td>\n",
              "      <td>Tempo Integral</td>\n",
              "      <td>Solutions Engineer</td>\n",
              "      <td>136000</td>\n",
              "      <td>USD</td>\n",
              "      <td>136000</td>\n",
              "      <td>US</td>\n",
              "      <td>Presencial</td>\n",
              "      <td>US</td>\n",
              "      <td>Médio</td>\n",
              "    </tr>\n",
              "    <tr>\n",
              "      <th>2</th>\n",
              "      <td>2025.0</td>\n",
              "      <td>Pleno</td>\n",
              "      <td>Tempo Integral</td>\n",
              "      <td>Data Engineer</td>\n",
              "      <td>158800</td>\n",
              "      <td>USD</td>\n",
              "      <td>158800</td>\n",
              "      <td>AU</td>\n",
              "      <td>Remoto</td>\n",
              "      <td>AU</td>\n",
              "      <td>Médio</td>\n",
              "    </tr>\n",
              "    <tr>\n",
              "      <th>3</th>\n",
              "      <td>2025.0</td>\n",
              "      <td>Pleno</td>\n",
              "      <td>Tempo Integral</td>\n",
              "      <td>Data Engineer</td>\n",
              "      <td>139200</td>\n",
              "      <td>USD</td>\n",
              "      <td>139200</td>\n",
              "      <td>AU</td>\n",
              "      <td>Remoto</td>\n",
              "      <td>AU</td>\n",
              "      <td>Médio</td>\n",
              "    </tr>\n",
              "    <tr>\n",
              "      <th>4</th>\n",
              "      <td>2025.0</td>\n",
              "      <td>Junior</td>\n",
              "      <td>Tempo Integral</td>\n",
              "      <td>Data Engineer</td>\n",
              "      <td>90000</td>\n",
              "      <td>USD</td>\n",
              "      <td>90000</td>\n",
              "      <td>US</td>\n",
              "      <td>Remoto</td>\n",
              "      <td>US</td>\n",
              "      <td>Médio</td>\n",
              "    </tr>\n",
              "  </tbody>\n",
              "</table>\n",
              "</div>"
            ],
            "text/plain": [
              "   ano_de_trabalho nível_de_experiência tipo_de_emprego  cargo_profissional  \\\n",
              "0           2025.0               Sênior  Tempo Integral  Solutions Engineer   \n",
              "1           2025.0               Sênior  Tempo Integral  Solutions Engineer   \n",
              "2           2025.0                Pleno  Tempo Integral       Data Engineer   \n",
              "3           2025.0                Pleno  Tempo Integral       Data Engineer   \n",
              "4           2025.0               Junior  Tempo Integral       Data Engineer   \n",
              "\n",
              "   salário moeda_do_salário  salário_em_usd residência_do_funcionário  \\\n",
              "0   214000              USD          214000                        US   \n",
              "1   136000              USD          136000                        US   \n",
              "2   158800              USD          158800                        AU   \n",
              "3   139200              USD          139200                        AU   \n",
              "4    90000              USD           90000                        US   \n",
              "\n",
              "  proporção_remota local_da_empresa porte_da_empresa  \n",
              "0       Presencial               US            Médio  \n",
              "1       Presencial               US            Médio  \n",
              "2           Remoto               AU            Médio  \n",
              "3           Remoto               AU            Médio  \n",
              "4           Remoto               US            Médio  "
            ]
          },
          "execution_count": 15,
          "metadata": {},
          "output_type": "execute_result"
        }
      ],
      "source": [
        "df.head(5)"
      ]
    },
    {
      "cell_type": "code",
      "execution_count": 16,
      "metadata": {
        "colab": {
          "base_uri": "https://localhost:8080/",
          "height": 175
        },
        "id": "gEZXzqDakaTX",
        "outputId": "9597dd8c-21ae-4655-bb27-8d86e7550d14"
      },
      "outputs": [
        {
          "data": {
            "text/html": [
              "<div>\n",
              "<style scoped>\n",
              "    .dataframe tbody tr th:only-of-type {\n",
              "        vertical-align: middle;\n",
              "    }\n",
              "\n",
              "    .dataframe tbody tr th {\n",
              "        vertical-align: top;\n",
              "    }\n",
              "\n",
              "    .dataframe thead th {\n",
              "        text-align: right;\n",
              "    }\n",
              "</style>\n",
              "<table border=\"1\" class=\"dataframe\">\n",
              "  <thead>\n",
              "    <tr style=\"text-align: right;\">\n",
              "      <th></th>\n",
              "      <th>nível_de_experiência</th>\n",
              "      <th>tipo_de_emprego</th>\n",
              "      <th>cargo_profissional</th>\n",
              "      <th>moeda_do_salário</th>\n",
              "      <th>residência_do_funcionário</th>\n",
              "      <th>proporção_remota</th>\n",
              "      <th>local_da_empresa</th>\n",
              "      <th>porte_da_empresa</th>\n",
              "    </tr>\n",
              "  </thead>\n",
              "  <tbody>\n",
              "    <tr>\n",
              "      <th>count</th>\n",
              "      <td>133349</td>\n",
              "      <td>133349</td>\n",
              "      <td>133349</td>\n",
              "      <td>133349</td>\n",
              "      <td>133349</td>\n",
              "      <td>133349</td>\n",
              "      <td>133349</td>\n",
              "      <td>133349</td>\n",
              "    </tr>\n",
              "    <tr>\n",
              "      <th>unique</th>\n",
              "      <td>4</td>\n",
              "      <td>4</td>\n",
              "      <td>390</td>\n",
              "      <td>26</td>\n",
              "      <td>102</td>\n",
              "      <td>3</td>\n",
              "      <td>95</td>\n",
              "      <td>3</td>\n",
              "    </tr>\n",
              "    <tr>\n",
              "      <th>top</th>\n",
              "      <td>Sênior</td>\n",
              "      <td>Tempo Integral</td>\n",
              "      <td>Data Scientist</td>\n",
              "      <td>USD</td>\n",
              "      <td>US</td>\n",
              "      <td>Remoto</td>\n",
              "      <td>US</td>\n",
              "      <td>Médio</td>\n",
              "    </tr>\n",
              "    <tr>\n",
              "      <th>freq</th>\n",
              "      <td>77241</td>\n",
              "      <td>132563</td>\n",
              "      <td>17314</td>\n",
              "      <td>126140</td>\n",
              "      <td>119579</td>\n",
              "      <td>105312</td>\n",
              "      <td>119641</td>\n",
              "      <td>129561</td>\n",
              "    </tr>\n",
              "  </tbody>\n",
              "</table>\n",
              "</div>"
            ],
            "text/plain": [
              "       nível_de_experiência tipo_de_emprego cargo_profissional  \\\n",
              "count                133349          133349             133349   \n",
              "unique                    4               4                390   \n",
              "top                  Sênior  Tempo Integral     Data Scientist   \n",
              "freq                  77241          132563              17314   \n",
              "\n",
              "       moeda_do_salário residência_do_funcionário proporção_remota  \\\n",
              "count            133349                    133349           133349   \n",
              "unique               26                       102                3   \n",
              "top                 USD                        US           Remoto   \n",
              "freq             126140                    119579           105312   \n",
              "\n",
              "       local_da_empresa porte_da_empresa  \n",
              "count            133349           133349  \n",
              "unique               95                3  \n",
              "top                  US            Médio  \n",
              "freq             119641           129561  "
            ]
          },
          "execution_count": 16,
          "metadata": {},
          "output_type": "execute_result"
        }
      ],
      "source": [
        "df.describe(include = \"object\")"
      ]
    },
    {
      "cell_type": "markdown",
      "metadata": {
        "id": "yajDDvtA15Vl"
      },
      "source": [
        "# Parte 2"
      ]
    },
    {
      "cell_type": "code",
      "execution_count": 17,
      "metadata": {
        "colab": {
          "base_uri": "https://localhost:8080/",
          "height": 443
        },
        "id": "VkchKPk51w1U",
        "outputId": "02c48c4b-e8d8-4bca-87e5-627ad79f4fc1"
      },
      "outputs": [
        {
          "data": {
            "text/html": [
              "<div>\n",
              "<style scoped>\n",
              "    .dataframe tbody tr th:only-of-type {\n",
              "        vertical-align: middle;\n",
              "    }\n",
              "\n",
              "    .dataframe tbody tr th {\n",
              "        vertical-align: top;\n",
              "    }\n",
              "\n",
              "    .dataframe thead th {\n",
              "        text-align: right;\n",
              "    }\n",
              "</style>\n",
              "<table border=\"1\" class=\"dataframe\">\n",
              "  <thead>\n",
              "    <tr style=\"text-align: right;\">\n",
              "      <th></th>\n",
              "      <th>ano_de_trabalho</th>\n",
              "      <th>nível_de_experiência</th>\n",
              "      <th>tipo_de_emprego</th>\n",
              "      <th>cargo_profissional</th>\n",
              "      <th>salário</th>\n",
              "      <th>moeda_do_salário</th>\n",
              "      <th>salário_em_usd</th>\n",
              "      <th>residência_do_funcionário</th>\n",
              "      <th>proporção_remota</th>\n",
              "      <th>local_da_empresa</th>\n",
              "      <th>porte_da_empresa</th>\n",
              "    </tr>\n",
              "  </thead>\n",
              "  <tbody>\n",
              "    <tr>\n",
              "      <th>0</th>\n",
              "      <td>False</td>\n",
              "      <td>False</td>\n",
              "      <td>False</td>\n",
              "      <td>False</td>\n",
              "      <td>False</td>\n",
              "      <td>False</td>\n",
              "      <td>False</td>\n",
              "      <td>False</td>\n",
              "      <td>False</td>\n",
              "      <td>False</td>\n",
              "      <td>False</td>\n",
              "    </tr>\n",
              "    <tr>\n",
              "      <th>1</th>\n",
              "      <td>False</td>\n",
              "      <td>False</td>\n",
              "      <td>False</td>\n",
              "      <td>False</td>\n",
              "      <td>False</td>\n",
              "      <td>False</td>\n",
              "      <td>False</td>\n",
              "      <td>False</td>\n",
              "      <td>False</td>\n",
              "      <td>False</td>\n",
              "      <td>False</td>\n",
              "    </tr>\n",
              "    <tr>\n",
              "      <th>2</th>\n",
              "      <td>False</td>\n",
              "      <td>False</td>\n",
              "      <td>False</td>\n",
              "      <td>False</td>\n",
              "      <td>False</td>\n",
              "      <td>False</td>\n",
              "      <td>False</td>\n",
              "      <td>False</td>\n",
              "      <td>False</td>\n",
              "      <td>False</td>\n",
              "      <td>False</td>\n",
              "    </tr>\n",
              "    <tr>\n",
              "      <th>3</th>\n",
              "      <td>False</td>\n",
              "      <td>False</td>\n",
              "      <td>False</td>\n",
              "      <td>False</td>\n",
              "      <td>False</td>\n",
              "      <td>False</td>\n",
              "      <td>False</td>\n",
              "      <td>False</td>\n",
              "      <td>False</td>\n",
              "      <td>False</td>\n",
              "      <td>False</td>\n",
              "    </tr>\n",
              "    <tr>\n",
              "      <th>4</th>\n",
              "      <td>False</td>\n",
              "      <td>False</td>\n",
              "      <td>False</td>\n",
              "      <td>False</td>\n",
              "      <td>False</td>\n",
              "      <td>False</td>\n",
              "      <td>False</td>\n",
              "      <td>False</td>\n",
              "      <td>False</td>\n",
              "      <td>False</td>\n",
              "      <td>False</td>\n",
              "    </tr>\n",
              "    <tr>\n",
              "      <th>...</th>\n",
              "      <td>...</td>\n",
              "      <td>...</td>\n",
              "      <td>...</td>\n",
              "      <td>...</td>\n",
              "      <td>...</td>\n",
              "      <td>...</td>\n",
              "      <td>...</td>\n",
              "      <td>...</td>\n",
              "      <td>...</td>\n",
              "      <td>...</td>\n",
              "      <td>...</td>\n",
              "    </tr>\n",
              "    <tr>\n",
              "      <th>133344</th>\n",
              "      <td>False</td>\n",
              "      <td>False</td>\n",
              "      <td>False</td>\n",
              "      <td>False</td>\n",
              "      <td>False</td>\n",
              "      <td>False</td>\n",
              "      <td>False</td>\n",
              "      <td>False</td>\n",
              "      <td>False</td>\n",
              "      <td>False</td>\n",
              "      <td>False</td>\n",
              "    </tr>\n",
              "    <tr>\n",
              "      <th>133345</th>\n",
              "      <td>False</td>\n",
              "      <td>False</td>\n",
              "      <td>False</td>\n",
              "      <td>False</td>\n",
              "      <td>False</td>\n",
              "      <td>False</td>\n",
              "      <td>False</td>\n",
              "      <td>False</td>\n",
              "      <td>False</td>\n",
              "      <td>False</td>\n",
              "      <td>False</td>\n",
              "    </tr>\n",
              "    <tr>\n",
              "      <th>133346</th>\n",
              "      <td>False</td>\n",
              "      <td>False</td>\n",
              "      <td>False</td>\n",
              "      <td>False</td>\n",
              "      <td>False</td>\n",
              "      <td>False</td>\n",
              "      <td>False</td>\n",
              "      <td>False</td>\n",
              "      <td>False</td>\n",
              "      <td>False</td>\n",
              "      <td>False</td>\n",
              "    </tr>\n",
              "    <tr>\n",
              "      <th>133347</th>\n",
              "      <td>False</td>\n",
              "      <td>False</td>\n",
              "      <td>False</td>\n",
              "      <td>False</td>\n",
              "      <td>False</td>\n",
              "      <td>False</td>\n",
              "      <td>False</td>\n",
              "      <td>False</td>\n",
              "      <td>False</td>\n",
              "      <td>False</td>\n",
              "      <td>False</td>\n",
              "    </tr>\n",
              "    <tr>\n",
              "      <th>133348</th>\n",
              "      <td>False</td>\n",
              "      <td>False</td>\n",
              "      <td>False</td>\n",
              "      <td>False</td>\n",
              "      <td>False</td>\n",
              "      <td>False</td>\n",
              "      <td>False</td>\n",
              "      <td>False</td>\n",
              "      <td>False</td>\n",
              "      <td>False</td>\n",
              "      <td>False</td>\n",
              "    </tr>\n",
              "  </tbody>\n",
              "</table>\n",
              "<p>133349 rows × 11 columns</p>\n",
              "</div>"
            ],
            "text/plain": [
              "        ano_de_trabalho  nível_de_experiência  tipo_de_emprego  \\\n",
              "0                 False                 False            False   \n",
              "1                 False                 False            False   \n",
              "2                 False                 False            False   \n",
              "3                 False                 False            False   \n",
              "4                 False                 False            False   \n",
              "...                 ...                   ...              ...   \n",
              "133344            False                 False            False   \n",
              "133345            False                 False            False   \n",
              "133346            False                 False            False   \n",
              "133347            False                 False            False   \n",
              "133348            False                 False            False   \n",
              "\n",
              "        cargo_profissional  salário  moeda_do_salário  salário_em_usd  \\\n",
              "0                    False    False             False           False   \n",
              "1                    False    False             False           False   \n",
              "2                    False    False             False           False   \n",
              "3                    False    False             False           False   \n",
              "4                    False    False             False           False   \n",
              "...                    ...      ...               ...             ...   \n",
              "133344               False    False             False           False   \n",
              "133345               False    False             False           False   \n",
              "133346               False    False             False           False   \n",
              "133347               False    False             False           False   \n",
              "133348               False    False             False           False   \n",
              "\n",
              "        residência_do_funcionário  proporção_remota  local_da_empresa  \\\n",
              "0                           False             False             False   \n",
              "1                           False             False             False   \n",
              "2                           False             False             False   \n",
              "3                           False             False             False   \n",
              "4                           False             False             False   \n",
              "...                           ...               ...               ...   \n",
              "133344                      False             False             False   \n",
              "133345                      False             False             False   \n",
              "133346                      False             False             False   \n",
              "133347                      False             False             False   \n",
              "133348                      False             False             False   \n",
              "\n",
              "        porte_da_empresa  \n",
              "0                  False  \n",
              "1                  False  \n",
              "2                  False  \n",
              "3                  False  \n",
              "4                  False  \n",
              "...                  ...  \n",
              "133344             False  \n",
              "133345             False  \n",
              "133346             False  \n",
              "133347             False  \n",
              "133348             False  \n",
              "\n",
              "[133349 rows x 11 columns]"
            ]
          },
          "execution_count": 17,
          "metadata": {},
          "output_type": "execute_result"
        }
      ],
      "source": [
        "df.isnull() # verificar onde tem dados nulos"
      ]
    },
    {
      "cell_type": "code",
      "execution_count": 18,
      "metadata": {
        "colab": {
          "base_uri": "https://localhost:8080/",
          "height": 429
        },
        "id": "N41X3-Zf3yc0",
        "outputId": "31446c99-d60f-42d3-e23e-fd73d2e72890"
      },
      "outputs": [
        {
          "data": {
            "text/plain": [
              "ano_de_trabalho              10\n",
              "nível_de_experiência          0\n",
              "tipo_de_emprego               0\n",
              "cargo_profissional            0\n",
              "salário                       0\n",
              "moeda_do_salário              0\n",
              "salário_em_usd                0\n",
              "residência_do_funcionário     0\n",
              "proporção_remota              0\n",
              "local_da_empresa              0\n",
              "porte_da_empresa              0\n",
              "dtype: int64"
            ]
          },
          "execution_count": 18,
          "metadata": {},
          "output_type": "execute_result"
        }
      ],
      "source": [
        "df.isnull().sum()"
      ]
    },
    {
      "cell_type": "code",
      "execution_count": 19,
      "metadata": {
        "colab": {
          "base_uri": "https://localhost:8080/"
        },
        "id": "BEykcMdV4LVp",
        "outputId": "e80105ff-d99c-4f8e-e3f6-8155b08fe778"
      },
      "outputs": [
        {
          "data": {
            "text/plain": [
              "array([2025.,   nan, 2024., 2022., 2023., 2020., 2021.])"
            ]
          },
          "execution_count": 19,
          "metadata": {},
          "output_type": "execute_result"
        }
      ],
      "source": [
        "df[\"ano_de_trabalho\"].unique() # verrificar onde estao os dados nulos"
      ]
    },
    {
      "cell_type": "code",
      "execution_count": 20,
      "metadata": {
        "colab": {
          "base_uri": "https://localhost:8080/",
          "height": 435
        },
        "id": "_vIjHDRJ4k70",
        "outputId": "766397e6-67be-4a2f-f1aa-726a05321366"
      },
      "outputs": [
        {
          "data": {
            "text/html": [
              "<div>\n",
              "<style scoped>\n",
              "    .dataframe tbody tr th:only-of-type {\n",
              "        vertical-align: middle;\n",
              "    }\n",
              "\n",
              "    .dataframe tbody tr th {\n",
              "        vertical-align: top;\n",
              "    }\n",
              "\n",
              "    .dataframe thead th {\n",
              "        text-align: right;\n",
              "    }\n",
              "</style>\n",
              "<table border=\"1\" class=\"dataframe\">\n",
              "  <thead>\n",
              "    <tr style=\"text-align: right;\">\n",
              "      <th></th>\n",
              "      <th>ano_de_trabalho</th>\n",
              "      <th>nível_de_experiência</th>\n",
              "      <th>tipo_de_emprego</th>\n",
              "      <th>cargo_profissional</th>\n",
              "      <th>salário</th>\n",
              "      <th>moeda_do_salário</th>\n",
              "      <th>salário_em_usd</th>\n",
              "      <th>residência_do_funcionário</th>\n",
              "      <th>proporção_remota</th>\n",
              "      <th>local_da_empresa</th>\n",
              "      <th>porte_da_empresa</th>\n",
              "    </tr>\n",
              "  </thead>\n",
              "  <tbody>\n",
              "    <tr>\n",
              "      <th>5588</th>\n",
              "      <td>NaN</td>\n",
              "      <td>Sênior</td>\n",
              "      <td>Tempo Integral</td>\n",
              "      <td>Product Manager</td>\n",
              "      <td>184500</td>\n",
              "      <td>USD</td>\n",
              "      <td>184500</td>\n",
              "      <td>US</td>\n",
              "      <td>Remoto</td>\n",
              "      <td>US</td>\n",
              "      <td>Médio</td>\n",
              "    </tr>\n",
              "    <tr>\n",
              "      <th>59692</th>\n",
              "      <td>NaN</td>\n",
              "      <td>Pleno</td>\n",
              "      <td>Tempo Integral</td>\n",
              "      <td>Engineer</td>\n",
              "      <td>110000</td>\n",
              "      <td>USD</td>\n",
              "      <td>110000</td>\n",
              "      <td>DE</td>\n",
              "      <td>Remoto</td>\n",
              "      <td>DE</td>\n",
              "      <td>Médio</td>\n",
              "    </tr>\n",
              "    <tr>\n",
              "      <th>59710</th>\n",
              "      <td>NaN</td>\n",
              "      <td>Junior</td>\n",
              "      <td>Tempo Integral</td>\n",
              "      <td>Data Scientist</td>\n",
              "      <td>208800</td>\n",
              "      <td>USD</td>\n",
              "      <td>208800</td>\n",
              "      <td>US</td>\n",
              "      <td>Remoto</td>\n",
              "      <td>US</td>\n",
              "      <td>Médio</td>\n",
              "    </tr>\n",
              "    <tr>\n",
              "      <th>59759</th>\n",
              "      <td>NaN</td>\n",
              "      <td>Sênior</td>\n",
              "      <td>Tempo Integral</td>\n",
              "      <td>Software Engineer</td>\n",
              "      <td>135000</td>\n",
              "      <td>USD</td>\n",
              "      <td>135000</td>\n",
              "      <td>US</td>\n",
              "      <td>Remoto</td>\n",
              "      <td>US</td>\n",
              "      <td>Médio</td>\n",
              "    </tr>\n",
              "    <tr>\n",
              "      <th>59789</th>\n",
              "      <td>NaN</td>\n",
              "      <td>Sênior</td>\n",
              "      <td>Tempo Integral</td>\n",
              "      <td>Engineer</td>\n",
              "      <td>112000</td>\n",
              "      <td>USD</td>\n",
              "      <td>112000</td>\n",
              "      <td>US</td>\n",
              "      <td>Remoto</td>\n",
              "      <td>US</td>\n",
              "      <td>Médio</td>\n",
              "    </tr>\n",
              "    <tr>\n",
              "      <th>131000</th>\n",
              "      <td>NaN</td>\n",
              "      <td>Sênior</td>\n",
              "      <td>Tempo Integral</td>\n",
              "      <td>Machine Learning Engineer</td>\n",
              "      <td>163800</td>\n",
              "      <td>USD</td>\n",
              "      <td>163800</td>\n",
              "      <td>US</td>\n",
              "      <td>Remoto</td>\n",
              "      <td>US</td>\n",
              "      <td>Médio</td>\n",
              "    </tr>\n",
              "    <tr>\n",
              "      <th>131006</th>\n",
              "      <td>NaN</td>\n",
              "      <td>Sênior</td>\n",
              "      <td>Tempo Integral</td>\n",
              "      <td>Data Analytics Manager</td>\n",
              "      <td>204500</td>\n",
              "      <td>USD</td>\n",
              "      <td>204500</td>\n",
              "      <td>US</td>\n",
              "      <td>Remoto</td>\n",
              "      <td>US</td>\n",
              "      <td>Médio</td>\n",
              "    </tr>\n",
              "    <tr>\n",
              "      <th>133054</th>\n",
              "      <td>NaN</td>\n",
              "      <td>Junior</td>\n",
              "      <td>Tempo Integral</td>\n",
              "      <td>Data Scientist</td>\n",
              "      <td>40000</td>\n",
              "      <td>USD</td>\n",
              "      <td>40000</td>\n",
              "      <td>JP</td>\n",
              "      <td>Presencial</td>\n",
              "      <td>MY</td>\n",
              "      <td>Grande</td>\n",
              "    </tr>\n",
              "    <tr>\n",
              "      <th>133281</th>\n",
              "      <td>NaN</td>\n",
              "      <td>Pleno</td>\n",
              "      <td>Tempo Integral</td>\n",
              "      <td>Machine Learning Engineer</td>\n",
              "      <td>180000</td>\n",
              "      <td>PLN</td>\n",
              "      <td>46597</td>\n",
              "      <td>PL</td>\n",
              "      <td>Presencial</td>\n",
              "      <td>PL</td>\n",
              "      <td>Grande</td>\n",
              "    </tr>\n",
              "    <tr>\n",
              "      <th>133317</th>\n",
              "      <td>NaN</td>\n",
              "      <td>Pleno</td>\n",
              "      <td>Tempo Integral</td>\n",
              "      <td>Data Scientist</td>\n",
              "      <td>130000</td>\n",
              "      <td>USD</td>\n",
              "      <td>130000</td>\n",
              "      <td>US</td>\n",
              "      <td>Semi-Remoto</td>\n",
              "      <td>US</td>\n",
              "      <td>Grande</td>\n",
              "    </tr>\n",
              "  </tbody>\n",
              "</table>\n",
              "</div>"
            ],
            "text/plain": [
              "        ano_de_trabalho nível_de_experiência tipo_de_emprego  \\\n",
              "5588                NaN               Sênior  Tempo Integral   \n",
              "59692               NaN                Pleno  Tempo Integral   \n",
              "59710               NaN               Junior  Tempo Integral   \n",
              "59759               NaN               Sênior  Tempo Integral   \n",
              "59789               NaN               Sênior  Tempo Integral   \n",
              "131000              NaN               Sênior  Tempo Integral   \n",
              "131006              NaN               Sênior  Tempo Integral   \n",
              "133054              NaN               Junior  Tempo Integral   \n",
              "133281              NaN                Pleno  Tempo Integral   \n",
              "133317              NaN                Pleno  Tempo Integral   \n",
              "\n",
              "               cargo_profissional  salário moeda_do_salário  salário_em_usd  \\\n",
              "5588              Product Manager   184500              USD          184500   \n",
              "59692                    Engineer   110000              USD          110000   \n",
              "59710              Data Scientist   208800              USD          208800   \n",
              "59759           Software Engineer   135000              USD          135000   \n",
              "59789                    Engineer   112000              USD          112000   \n",
              "131000  Machine Learning Engineer   163800              USD          163800   \n",
              "131006     Data Analytics Manager   204500              USD          204500   \n",
              "133054             Data Scientist    40000              USD           40000   \n",
              "133281  Machine Learning Engineer   180000              PLN           46597   \n",
              "133317             Data Scientist   130000              USD          130000   \n",
              "\n",
              "       residência_do_funcionário proporção_remota local_da_empresa  \\\n",
              "5588                          US           Remoto               US   \n",
              "59692                         DE           Remoto               DE   \n",
              "59710                         US           Remoto               US   \n",
              "59759                         US           Remoto               US   \n",
              "59789                         US           Remoto               US   \n",
              "131000                        US           Remoto               US   \n",
              "131006                        US           Remoto               US   \n",
              "133054                        JP       Presencial               MY   \n",
              "133281                        PL       Presencial               PL   \n",
              "133317                        US      Semi-Remoto               US   \n",
              "\n",
              "       porte_da_empresa  \n",
              "5588              Médio  \n",
              "59692             Médio  \n",
              "59710             Médio  \n",
              "59759             Médio  \n",
              "59789             Médio  \n",
              "131000            Médio  \n",
              "131006            Médio  \n",
              "133054           Grande  \n",
              "133281           Grande  \n",
              "133317           Grande  "
            ]
          },
          "execution_count": 20,
          "metadata": {},
          "output_type": "execute_result"
        }
      ],
      "source": [
        "df[df.isnull().any(axis=1)] # mostrar os dados nulos"
      ]
    },
    {
      "cell_type": "code",
      "execution_count": 21,
      "metadata": {
        "colab": {
          "base_uri": "https://localhost:8080/",
          "height": 143
        },
        "id": "RCZCP-gk552x",
        "outputId": "427a8e35-49ca-4159-c57e-24ea11e042b3"
      },
      "outputs": [
        {
          "data": {
            "text/html": [
              "<div>\n",
              "<style scoped>\n",
              "    .dataframe tbody tr th:only-of-type {\n",
              "        vertical-align: middle;\n",
              "    }\n",
              "\n",
              "    .dataframe tbody tr th {\n",
              "        vertical-align: top;\n",
              "    }\n",
              "\n",
              "    .dataframe thead th {\n",
              "        text-align: right;\n",
              "    }\n",
              "</style>\n",
              "<table border=\"1\" class=\"dataframe\">\n",
              "  <thead>\n",
              "    <tr style=\"text-align: right;\">\n",
              "      <th></th>\n",
              "      <th>nome</th>\n",
              "      <th>salario</th>\n",
              "      <th>salario_media</th>\n",
              "    </tr>\n",
              "  </thead>\n",
              "  <tbody>\n",
              "    <tr>\n",
              "      <th>0</th>\n",
              "      <td>Thiago</td>\n",
              "      <td>4000.0</td>\n",
              "      <td>4000.0</td>\n",
              "    </tr>\n",
              "    <tr>\n",
              "      <th>1</th>\n",
              "      <td>Leticia</td>\n",
              "      <td>NaN</td>\n",
              "      <td>4500.0</td>\n",
              "    </tr>\n",
              "    <tr>\n",
              "      <th>2</th>\n",
              "      <td>Osmar</td>\n",
              "      <td>5000.0</td>\n",
              "      <td>5000.0</td>\n",
              "    </tr>\n",
              "  </tbody>\n",
              "</table>\n",
              "</div>"
            ],
            "text/plain": [
              "      nome  salario  salario_media\n",
              "0   Thiago   4000.0         4000.0\n",
              "1  Leticia      NaN         4500.0\n",
              "2    Osmar   5000.0         5000.0"
            ]
          },
          "execution_count": 21,
          "metadata": {},
          "output_type": "execute_result"
        }
      ],
      "source": [
        "df_salario = pd.DataFrame({ # criar um data frame sintetico\n",
        "    'nome': [\"Thiago\", \"Leticia\", \"Osmar\"],\n",
        "    'salario': [ 4000, np.nan , 5000]\n",
        "})\n",
        "\n",
        "df_salario['salario_media'] = df_salario['salario'].fillna(df_salario['salario'].median()) # mediana pq e salario mean se fosse media\n",
        "\n",
        "df_salario"
      ]
    },
    {
      "cell_type": "code",
      "execution_count": 22,
      "metadata": {
        "colab": {
          "base_uri": "https://localhost:8080/",
          "height": 269
        },
        "id": "0fb6bXv2Bk6H",
        "outputId": "74c0b346-8026-44c9-ec75-b865a64072b2"
      },
      "outputs": [
        {
          "data": {
            "text/html": [
              "<div>\n",
              "<style scoped>\n",
              "    .dataframe tbody tr th:only-of-type {\n",
              "        vertical-align: middle;\n",
              "    }\n",
              "\n",
              "    .dataframe tbody tr th {\n",
              "        vertical-align: top;\n",
              "    }\n",
              "\n",
              "    .dataframe thead th {\n",
              "        text-align: right;\n",
              "    }\n",
              "</style>\n",
              "<table border=\"1\" class=\"dataframe\">\n",
              "  <thead>\n",
              "    <tr style=\"text-align: right;\">\n",
              "      <th></th>\n",
              "      <th>Dia</th>\n",
              "      <th>Temperatura</th>\n",
              "      <th>preenchido_ffill</th>\n",
              "    </tr>\n",
              "  </thead>\n",
              "  <tbody>\n",
              "    <tr>\n",
              "      <th>0</th>\n",
              "      <td>Seg</td>\n",
              "      <td>30.0</td>\n",
              "      <td>30.0</td>\n",
              "    </tr>\n",
              "    <tr>\n",
              "      <th>1</th>\n",
              "      <td>Ter</td>\n",
              "      <td>40.0</td>\n",
              "      <td>40.0</td>\n",
              "    </tr>\n",
              "    <tr>\n",
              "      <th>2</th>\n",
              "      <td>Quar</td>\n",
              "      <td>35.0</td>\n",
              "      <td>35.0</td>\n",
              "    </tr>\n",
              "    <tr>\n",
              "      <th>3</th>\n",
              "      <td>Quin</td>\n",
              "      <td>NaN</td>\n",
              "      <td>35.0</td>\n",
              "    </tr>\n",
              "    <tr>\n",
              "      <th>4</th>\n",
              "      <td>Sex</td>\n",
              "      <td>30.0</td>\n",
              "      <td>30.0</td>\n",
              "    </tr>\n",
              "    <tr>\n",
              "      <th>5</th>\n",
              "      <td>Sab</td>\n",
              "      <td>NaN</td>\n",
              "      <td>30.0</td>\n",
              "    </tr>\n",
              "    <tr>\n",
              "      <th>6</th>\n",
              "      <td>Dom</td>\n",
              "      <td>22.0</td>\n",
              "      <td>22.0</td>\n",
              "    </tr>\n",
              "  </tbody>\n",
              "</table>\n",
              "</div>"
            ],
            "text/plain": [
              "     Dia  Temperatura  preenchido_ffill\n",
              "0    Seg         30.0              30.0\n",
              "1    Ter         40.0              40.0\n",
              "2   Quar         35.0              35.0\n",
              "3   Quin          NaN              35.0\n",
              "4    Sex         30.0              30.0\n",
              "5    Sab          NaN              30.0\n",
              "6    Dom         22.0              22.0"
            ]
          },
          "execution_count": 22,
          "metadata": {},
          "output_type": "execute_result"
        }
      ],
      "source": [
        "df_temperatura = pd.DataFrame({\n",
        "    \"Dia\": [\"Seg\", \"Ter\", \"Quar\", \" Quin\", \"Sex\", \"Sab\",\"Dom\"],\n",
        "    \"Temperatura\": [30, 40, 35, np.nan, 30, np.nan, 22]\n",
        "})\n",
        "df_temperatura[\"preenchido_ffill\"] = df_temperatura[\"Temperatura\"].ffill() #ffill faz recoreencia\n",
        "\n",
        "df_temperatura"
      ]
    },
    {
      "cell_type": "code",
      "execution_count": 23,
      "metadata": {
        "colab": {
          "base_uri": "https://localhost:8080/",
          "height": 143
        },
        "id": "oSkjidYrFN9B",
        "outputId": "fcebd5aa-3baf-4f0b-ed71-60222d1a0971"
      },
      "outputs": [
        {
          "data": {
            "text/html": [
              "<div>\n",
              "<style scoped>\n",
              "    .dataframe tbody tr th:only-of-type {\n",
              "        vertical-align: middle;\n",
              "    }\n",
              "\n",
              "    .dataframe tbody tr th {\n",
              "        vertical-align: top;\n",
              "    }\n",
              "\n",
              "    .dataframe thead th {\n",
              "        text-align: right;\n",
              "    }\n",
              "</style>\n",
              "<table border=\"1\" class=\"dataframe\">\n",
              "  <thead>\n",
              "    <tr style=\"text-align: right;\">\n",
              "      <th></th>\n",
              "      <th>nome</th>\n",
              "      <th>cidade</th>\n",
              "      <th>cidade_preenchida</th>\n",
              "    </tr>\n",
              "  </thead>\n",
              "  <tbody>\n",
              "    <tr>\n",
              "      <th>0</th>\n",
              "      <td>Thiago</td>\n",
              "      <td>Belo Horizonte</td>\n",
              "      <td>Belo Horizonte</td>\n",
              "    </tr>\n",
              "    <tr>\n",
              "      <th>1</th>\n",
              "      <td>Leticia</td>\n",
              "      <td>Sao Paulo</td>\n",
              "      <td>Sao Paulo</td>\n",
              "    </tr>\n",
              "    <tr>\n",
              "      <th>2</th>\n",
              "      <td>Osmar</td>\n",
              "      <td>NaN</td>\n",
              "      <td>Nao informado</td>\n",
              "    </tr>\n",
              "  </tbody>\n",
              "</table>\n",
              "</div>"
            ],
            "text/plain": [
              "      nome          cidade cidade_preenchida\n",
              "0   Thiago  Belo Horizonte    Belo Horizonte\n",
              "1  Leticia       Sao Paulo         Sao Paulo\n",
              "2    Osmar             NaN     Nao informado"
            ]
          },
          "execution_count": 23,
          "metadata": {},
          "output_type": "execute_result"
        }
      ],
      "source": [
        "df_cidade = pd.DataFrame ({\n",
        "    'nome': [\"Thiago\", \"Leticia\", \"Osmar\"],\n",
        "    'cidade': [\"Belo Horizonte\", \"Sao Paulo\", np.nan]\n",
        "})\n",
        "\n",
        "df_cidade[\"cidade_preenchida\"]= df_cidade['cidade'].fillna(\"Nao informado\")\n",
        "df_cidade"
      ]
    },
    {
      "cell_type": "code",
      "execution_count": 24,
      "metadata": {
        "colab": {
          "base_uri": "https://localhost:8080/",
          "height": 429
        },
        "id": "qkxTHaLlFTNN",
        "outputId": "c78b3b9a-788f-4cba-ec68-065a019ff5aa"
      },
      "outputs": [
        {
          "data": {
            "text/plain": [
              "ano_de_trabalho              0\n",
              "nível_de_experiência         0\n",
              "tipo_de_emprego              0\n",
              "cargo_profissional           0\n",
              "salário                      0\n",
              "moeda_do_salário             0\n",
              "salário_em_usd               0\n",
              "residência_do_funcionário    0\n",
              "proporção_remota             0\n",
              "local_da_empresa             0\n",
              "porte_da_empresa             0\n",
              "dtype: int64"
            ]
          },
          "execution_count": 24,
          "metadata": {},
          "output_type": "execute_result"
        }
      ],
      "source": [
        "df_limpo = df.dropna() #usare o dropna para dropar/tirar todos os dados nulos\n",
        "df_limpo.isnull().sum()"
      ]
    },
    {
      "cell_type": "code",
      "execution_count": 25,
      "metadata": {
        "colab": {
          "base_uri": "https://localhost:8080/",
          "height": 226
        },
        "id": "VvqIdABqIQl1",
        "outputId": "05ca625b-37c1-47d0-cfb1-5a8ea4816bb5"
      },
      "outputs": [
        {
          "data": {
            "text/html": [
              "<div>\n",
              "<style scoped>\n",
              "    .dataframe tbody tr th:only-of-type {\n",
              "        vertical-align: middle;\n",
              "    }\n",
              "\n",
              "    .dataframe tbody tr th {\n",
              "        vertical-align: top;\n",
              "    }\n",
              "\n",
              "    .dataframe thead th {\n",
              "        text-align: right;\n",
              "    }\n",
              "</style>\n",
              "<table border=\"1\" class=\"dataframe\">\n",
              "  <thead>\n",
              "    <tr style=\"text-align: right;\">\n",
              "      <th></th>\n",
              "      <th>ano_de_trabalho</th>\n",
              "      <th>nível_de_experiência</th>\n",
              "      <th>tipo_de_emprego</th>\n",
              "      <th>cargo_profissional</th>\n",
              "      <th>salário</th>\n",
              "      <th>moeda_do_salário</th>\n",
              "      <th>salário_em_usd</th>\n",
              "      <th>residência_do_funcionário</th>\n",
              "      <th>proporção_remota</th>\n",
              "      <th>local_da_empresa</th>\n",
              "      <th>porte_da_empresa</th>\n",
              "    </tr>\n",
              "  </thead>\n",
              "  <tbody>\n",
              "    <tr>\n",
              "      <th>0</th>\n",
              "      <td>2025.0</td>\n",
              "      <td>Sênior</td>\n",
              "      <td>Tempo Integral</td>\n",
              "      <td>Solutions Engineer</td>\n",
              "      <td>214000</td>\n",
              "      <td>USD</td>\n",
              "      <td>214000</td>\n",
              "      <td>US</td>\n",
              "      <td>Presencial</td>\n",
              "      <td>US</td>\n",
              "      <td>Médio</td>\n",
              "    </tr>\n",
              "    <tr>\n",
              "      <th>1</th>\n",
              "      <td>2025.0</td>\n",
              "      <td>Sênior</td>\n",
              "      <td>Tempo Integral</td>\n",
              "      <td>Solutions Engineer</td>\n",
              "      <td>136000</td>\n",
              "      <td>USD</td>\n",
              "      <td>136000</td>\n",
              "      <td>US</td>\n",
              "      <td>Presencial</td>\n",
              "      <td>US</td>\n",
              "      <td>Médio</td>\n",
              "    </tr>\n",
              "    <tr>\n",
              "      <th>2</th>\n",
              "      <td>2025.0</td>\n",
              "      <td>Pleno</td>\n",
              "      <td>Tempo Integral</td>\n",
              "      <td>Data Engineer</td>\n",
              "      <td>158800</td>\n",
              "      <td>USD</td>\n",
              "      <td>158800</td>\n",
              "      <td>AU</td>\n",
              "      <td>Remoto</td>\n",
              "      <td>AU</td>\n",
              "      <td>Médio</td>\n",
              "    </tr>\n",
              "    <tr>\n",
              "      <th>3</th>\n",
              "      <td>2025.0</td>\n",
              "      <td>Pleno</td>\n",
              "      <td>Tempo Integral</td>\n",
              "      <td>Data Engineer</td>\n",
              "      <td>139200</td>\n",
              "      <td>USD</td>\n",
              "      <td>139200</td>\n",
              "      <td>AU</td>\n",
              "      <td>Remoto</td>\n",
              "      <td>AU</td>\n",
              "      <td>Médio</td>\n",
              "    </tr>\n",
              "    <tr>\n",
              "      <th>4</th>\n",
              "      <td>2025.0</td>\n",
              "      <td>Junior</td>\n",
              "      <td>Tempo Integral</td>\n",
              "      <td>Data Engineer</td>\n",
              "      <td>90000</td>\n",
              "      <td>USD</td>\n",
              "      <td>90000</td>\n",
              "      <td>US</td>\n",
              "      <td>Remoto</td>\n",
              "      <td>US</td>\n",
              "      <td>Médio</td>\n",
              "    </tr>\n",
              "  </tbody>\n",
              "</table>\n",
              "</div>"
            ],
            "text/plain": [
              "   ano_de_trabalho nível_de_experiência tipo_de_emprego  cargo_profissional  \\\n",
              "0           2025.0               Sênior  Tempo Integral  Solutions Engineer   \n",
              "1           2025.0               Sênior  Tempo Integral  Solutions Engineer   \n",
              "2           2025.0                Pleno  Tempo Integral       Data Engineer   \n",
              "3           2025.0                Pleno  Tempo Integral       Data Engineer   \n",
              "4           2025.0               Junior  Tempo Integral       Data Engineer   \n",
              "\n",
              "   salário moeda_do_salário  salário_em_usd residência_do_funcionário  \\\n",
              "0   214000              USD          214000                        US   \n",
              "1   136000              USD          136000                        US   \n",
              "2   158800              USD          158800                        AU   \n",
              "3   139200              USD          139200                        AU   \n",
              "4    90000              USD           90000                        US   \n",
              "\n",
              "  proporção_remota local_da_empresa porte_da_empresa  \n",
              "0       Presencial               US            Médio  \n",
              "1       Presencial               US            Médio  \n",
              "2           Remoto               AU            Médio  \n",
              "3           Remoto               AU            Médio  \n",
              "4           Remoto               US            Médio  "
            ]
          },
          "execution_count": 25,
          "metadata": {},
          "output_type": "execute_result"
        }
      ],
      "source": [
        "df_limpo.head(5)"
      ]
    },
    {
      "cell_type": "code",
      "execution_count": 26,
      "metadata": {
        "colab": {
          "base_uri": "https://localhost:8080/"
        },
        "id": "pWsrD9XFIdCx",
        "outputId": "cdb24066-6027-4666-ff6e-ede3a5092b39"
      },
      "outputs": [
        {
          "name": "stdout",
          "output_type": "stream",
          "text": [
            "<class 'pandas.core.frame.DataFrame'>\n",
            "Index: 133339 entries, 0 to 133348\n",
            "Data columns (total 11 columns):\n",
            " #   Column                     Non-Null Count   Dtype  \n",
            "---  ------                     --------------   -----  \n",
            " 0   ano_de_trabalho            133339 non-null  float64\n",
            " 1   nível_de_experiência       133339 non-null  object \n",
            " 2   tipo_de_emprego            133339 non-null  object \n",
            " 3   cargo_profissional         133339 non-null  object \n",
            " 4   salário                    133339 non-null  int64  \n",
            " 5   moeda_do_salário           133339 non-null  object \n",
            " 6   salário_em_usd             133339 non-null  int64  \n",
            " 7   residência_do_funcionário  133339 non-null  object \n",
            " 8   proporção_remota           133339 non-null  object \n",
            " 9   local_da_empresa           133339 non-null  object \n",
            " 10  porte_da_empresa           133339 non-null  object \n",
            "dtypes: float64(1), int64(2), object(8)\n",
            "memory usage: 12.2+ MB\n"
          ]
        }
      ],
      "source": [
        "df_limpo.info()"
      ]
    },
    {
      "cell_type": "code",
      "execution_count": 27,
      "metadata": {
        "colab": {
          "base_uri": "https://localhost:8080/",
          "height": 226
        },
        "id": "CgBk7bU0Ivo8",
        "outputId": "84f31357-ca1b-4876-97c5-da40738c5491"
      },
      "outputs": [
        {
          "data": {
            "text/html": [
              "<div>\n",
              "<style scoped>\n",
              "    .dataframe tbody tr th:only-of-type {\n",
              "        vertical-align: middle;\n",
              "    }\n",
              "\n",
              "    .dataframe tbody tr th {\n",
              "        vertical-align: top;\n",
              "    }\n",
              "\n",
              "    .dataframe thead th {\n",
              "        text-align: right;\n",
              "    }\n",
              "</style>\n",
              "<table border=\"1\" class=\"dataframe\">\n",
              "  <thead>\n",
              "    <tr style=\"text-align: right;\">\n",
              "      <th></th>\n",
              "      <th>ano_de_trabalho</th>\n",
              "      <th>nível_de_experiência</th>\n",
              "      <th>tipo_de_emprego</th>\n",
              "      <th>cargo_profissional</th>\n",
              "      <th>salário</th>\n",
              "      <th>moeda_do_salário</th>\n",
              "      <th>salário_em_usd</th>\n",
              "      <th>residência_do_funcionário</th>\n",
              "      <th>proporção_remota</th>\n",
              "      <th>local_da_empresa</th>\n",
              "      <th>porte_da_empresa</th>\n",
              "    </tr>\n",
              "  </thead>\n",
              "  <tbody>\n",
              "    <tr>\n",
              "      <th>0</th>\n",
              "      <td>2025</td>\n",
              "      <td>Sênior</td>\n",
              "      <td>Tempo Integral</td>\n",
              "      <td>Solutions Engineer</td>\n",
              "      <td>214000</td>\n",
              "      <td>USD</td>\n",
              "      <td>214000</td>\n",
              "      <td>US</td>\n",
              "      <td>Presencial</td>\n",
              "      <td>US</td>\n",
              "      <td>Médio</td>\n",
              "    </tr>\n",
              "    <tr>\n",
              "      <th>1</th>\n",
              "      <td>2025</td>\n",
              "      <td>Sênior</td>\n",
              "      <td>Tempo Integral</td>\n",
              "      <td>Solutions Engineer</td>\n",
              "      <td>136000</td>\n",
              "      <td>USD</td>\n",
              "      <td>136000</td>\n",
              "      <td>US</td>\n",
              "      <td>Presencial</td>\n",
              "      <td>US</td>\n",
              "      <td>Médio</td>\n",
              "    </tr>\n",
              "    <tr>\n",
              "      <th>2</th>\n",
              "      <td>2025</td>\n",
              "      <td>Pleno</td>\n",
              "      <td>Tempo Integral</td>\n",
              "      <td>Data Engineer</td>\n",
              "      <td>158800</td>\n",
              "      <td>USD</td>\n",
              "      <td>158800</td>\n",
              "      <td>AU</td>\n",
              "      <td>Remoto</td>\n",
              "      <td>AU</td>\n",
              "      <td>Médio</td>\n",
              "    </tr>\n",
              "    <tr>\n",
              "      <th>3</th>\n",
              "      <td>2025</td>\n",
              "      <td>Pleno</td>\n",
              "      <td>Tempo Integral</td>\n",
              "      <td>Data Engineer</td>\n",
              "      <td>139200</td>\n",
              "      <td>USD</td>\n",
              "      <td>139200</td>\n",
              "      <td>AU</td>\n",
              "      <td>Remoto</td>\n",
              "      <td>AU</td>\n",
              "      <td>Médio</td>\n",
              "    </tr>\n",
              "    <tr>\n",
              "      <th>4</th>\n",
              "      <td>2025</td>\n",
              "      <td>Junior</td>\n",
              "      <td>Tempo Integral</td>\n",
              "      <td>Data Engineer</td>\n",
              "      <td>90000</td>\n",
              "      <td>USD</td>\n",
              "      <td>90000</td>\n",
              "      <td>US</td>\n",
              "      <td>Remoto</td>\n",
              "      <td>US</td>\n",
              "      <td>Médio</td>\n",
              "    </tr>\n",
              "  </tbody>\n",
              "</table>\n",
              "</div>"
            ],
            "text/plain": [
              "   ano_de_trabalho nível_de_experiência tipo_de_emprego  cargo_profissional  \\\n",
              "0             2025               Sênior  Tempo Integral  Solutions Engineer   \n",
              "1             2025               Sênior  Tempo Integral  Solutions Engineer   \n",
              "2             2025                Pleno  Tempo Integral       Data Engineer   \n",
              "3             2025                Pleno  Tempo Integral       Data Engineer   \n",
              "4             2025               Junior  Tempo Integral       Data Engineer   \n",
              "\n",
              "   salário moeda_do_salário  salário_em_usd residência_do_funcionário  \\\n",
              "0   214000              USD          214000                        US   \n",
              "1   136000              USD          136000                        US   \n",
              "2   158800              USD          158800                        AU   \n",
              "3   139200              USD          139200                        AU   \n",
              "4    90000              USD           90000                        US   \n",
              "\n",
              "  proporção_remota local_da_empresa porte_da_empresa  \n",
              "0       Presencial               US            Médio  \n",
              "1       Presencial               US            Médio  \n",
              "2           Remoto               AU            Médio  \n",
              "3           Remoto               AU            Médio  \n",
              "4           Remoto               US            Médio  "
            ]
          },
          "execution_count": 27,
          "metadata": {},
          "output_type": "execute_result"
        }
      ],
      "source": [
        "df_limpo = df_limpo.assign(ano_de_trabalho = df_limpo['ano_de_trabalho'].astype('int64')) #troquei o dado tipo float64 paara int64\n",
        "df_limpo.head(5)"
      ]
    },
    {
      "cell_type": "markdown",
      "metadata": {
        "id": "SbAzOcEGv2Qv"
      },
      "source": [
        "# Parte 3"
      ]
    },
    {
      "cell_type": "code",
      "execution_count": 28,
      "metadata": {
        "colab": {
          "base_uri": "https://localhost:8080/",
          "height": 543
        },
        "id": "xDp7oECOv4qQ",
        "outputId": "ed497d2a-9434-445d-be82-e565af5c7bf8"
      },
      "outputs": [
        {
          "data": {
            "text/plain": [
              "<Axes: title={'center': 'Grafico de barras nivel de experiencia'}, xlabel='nível_de_experiência'>"
            ]
          },
          "execution_count": 28,
          "metadata": {},
          "output_type": "execute_result"
        },
        {
          "data": {
            "image/png": "[encoded data removed]",
            "text/plain": [
              "<Figure size 640x480 with 1 Axes>"
            ]
          },
          "metadata": {},
          "output_type": "display_data"
        }
      ],
      "source": [
        "df_limpo[\"nível_de_experiência\"].value_counts().plot(kind=\"bar\", title=\"Grafico de barras nivel de experiencia\")"
      ]
    },
    {
      "cell_type": "code",
      "execution_count": 29,
      "metadata": {
        "colab": {
          "base_uri": "https://localhost:8080/",
          "height": 467
        },
        "id": "OfQml7nbwb0S",
        "outputId": "1a2165e7-d047-4a40-ba20-0f0d89292d2c"
      },
      "outputs": [
        {
          "data": {
            "text/plain": [
              "<Axes: xlabel='tipo_de_emprego', ylabel='salário_em_usd'>"
            ]
          },
          "execution_count": 29,
          "metadata": {},
          "output_type": "execute_result"
        },
        {
          "data": {
            "image/png": "[encoded data removed]",
            "text/plain": [
              "<Figure size 640x480 with 1 Axes>"
            ]
          },
          "metadata": {},
          "output_type": "display_data"
        }
      ],
      "source": [
        "sns.barplot(x=\"tipo_de_emprego\", y=\"salário_em_usd\", data=df_limpo)"
      ]
    },
    {
      "cell_type": "code",
      "execution_count": 30,
      "metadata": {
        "colab": {
          "base_uri": "https://localhost:8080/",
          "height": 487
        },
        "id": "dY5ZAdUNwhM1",
        "outputId": "012f426d-09aa-4a54-ee7f-0bea0da1edd2"
      },
      "outputs": [
        {
          "data": {
            "image/png": "[encoded data removed]",
            "text/plain": [
              "<Figure size 800x500 with 1 Axes>"
            ]
          },
          "metadata": {},
          "output_type": "display_data"
        }
      ],
      "source": [
        "SenioridaOrdenado = df_limpo.groupby(\"nível_de_experiência\")[\"salário_em_usd\"].mean().sort_values(ascending=False)\n",
        "plt.figure(figsize= (8, 5))\n",
        "sns.barplot(data=df_limpo, x=\"nível_de_experiência\", y=\"salário_em_usd\", order= SenioridaOrdenado.index)\n",
        "plt.title(\"Grafico de barras nivel de experiencia\")\n",
        "plt.xlabel(\"Senioridade\")\n",
        "plt.ylabel(\"Salario\")\n",
        "plt.show()"
      ]
    },
    {
      "cell_type": "code",
      "execution_count": 31,
      "metadata": {
        "colab": {
          "base_uri": "https://localhost:8080/",
          "height": 410
        },
        "id": "Nwcx0YxeNRV8",
        "outputId": "8907c152-0570-48eb-a559-afb3d402037c"
      },
      "outputs": [
        {
          "data": {
            "image/png": "[encoded data removed]",
            "text/plain": [
              "<Figure size 800x400 with 1 Axes>"
            ]
          },
          "metadata": {},
          "output_type": "display_data"
        }
      ],
      "source": [
        "plt.figure(figsize= (8,4))\n",
        "sns.histplot(df_limpo[\"salário_em_usd\"] , bins=50 , kde=True)\n",
        "plt.title(\"Distribuição Salaria em USD\")\n",
        "plt.xlabel(\"Salario em Dolar\")\n",
        "plt.ylabel(\"Frequencia\")\n",
        "plt.show()"
      ]
    },
    {
      "cell_type": "code",
      "execution_count": 32,
      "metadata": {
        "colab": {
          "base_uri": "https://localhost:8080/",
          "height": 410
        },
        "id": "JPmPDVVrPoCT",
        "outputId": "1aa959d0-b073-4061-e0ec-f29ff6f66c41"
      },
      "outputs": [
        {
          "data": {
            "image/png": "[encoded data removed]",
            "text/plain": [
              "<Figure size 800x400 with 1 Axes>"
            ]
          },
          "metadata": {},
          "output_type": "display_data"
        }
      ],
      "source": [
        "plt.figure(figsize= (8,4))\n",
        "sns.boxplot(x = df_limpo[\"salário_em_usd\"])\n",
        "plt.title(\"Box Plot Salario em dolar\")\n",
        "plt.xlabel(\"Salario em Dolar\")\n",
        "plt.show()"
      ]
    },
    {
      "cell_type": "code",
      "execution_count": 33,
      "metadata": {
        "colab": {
          "base_uri": "https://localhost:8080/",
          "height": 410
        },
        "id": "OysuRyR6W1PW",
        "outputId": "91dc25b2-c640-4c1b-ad01-036066b89f6a"
      },
      "outputs": [
        {
          "data": {
            "image/png": "[encoded data removed]",
            "text/plain": [
              "<Figure size 800x400 with 1 Axes>"
            ]
          },
          "metadata": {},
          "output_type": "display_data"
        }
      ],
      "source": [
        "ordem_senioridade = [\"Executivo\", \"Sênior\", \"Pleno\", \"Junior\"]\n",
        "plt.figure( figsize= (8,4))\n",
        "sns.boxplot(x=\"nível_de_experiência\", y=\"salário_em_usd\", data=df_limpo, order=ordem_senioridade, palette=\"Set2\", hue=\"nível_de_experiência\")\n",
        "plt.title(\"Box Plot Salario em dolar\")\n",
        "plt.xlabel(\"Senioridade\")\n",
        "plt.ylabel(\"Salario em Dolar\")\n",
        "plt.show()"
      ]
    },
    {
      "cell_type": "code",
      "execution_count": 34,
      "metadata": {
        "colab": {
          "base_uri": "https://localhost:8080/",
          "height": 542
        },
        "id": "Tkth3AiDZQ4n",
        "outputId": "aa92e171-7986-4764-9494-b8c54ee8b49b"
      },
      "outputs": [
        {
          "data": {
            "application/vnd.plotly.v1+json": {
              "config": {
                "plotlyServerURL": "https://plot.ly"
              },
              "data": [
                {
                  "alignmentgroup": "True",
                  "hovertemplate": "nível_de_experiência=%{x}<br>salário_em_usd=%{y}<extra></extra>",
                  "legendgroup": "",
                  "marker": {
                    "color": "#636efa",
                    "pattern": {
                      "shape": ""
                    }
                  },
                  "name": "",
                  "offsetgroup": "",
                  "orientation": "v",
                  "showlegend": false,
                  "textposition": "auto",
                  "type": "bar",
                  "x": [
                    "Executivo",
                    "Sênior",
                    "Pleno",
                    "Junior"
                  ],
                  "xaxis": "x",
                  "y": [
                    202027.6678125,
                    172850.83830079238,
                    143044.8459789432,
                    99034.96326661843
                  ],
                  "yaxis": "y"
                }
              ],
              "layout": {
                "barmode": "relative",
                "legend": {
                  "tracegroupgap": 0
                },
                "template": {
                  "data": {
                    "bar": [
                      {
                        "error_x": {
                          "color": "#2a3f5f"
                        },
                        "error_y": {
                          "color": "#2a3f5f"
                        },
                        "marker": {
                          "line": {
                            "color": "#E5ECF6",
                            "width": 0.5
                          },
                          "pattern": {
                            "fillmode": "overlay",
                            "size": 10,
                            "solidity": 0.2
                          }
                        },
                        "type": "bar"
                      }
                    ],
                    "barpolar": [
                      {
                        "marker": {
                          "line": {
                            "color": "#E5ECF6",
                            "width": 0.5
                          },
                          "pattern": {
                            "fillmode": "overlay",
                            "size": 10,
                            "solidity": 0.2
                          }
                        },
                        "type": "barpolar"
                      }
                    ],
                    "carpet": [
                      {
                        "aaxis": {
                          "endlinecolor": "#2a3f5f",
                          "gridcolor": "white",
                          "linecolor": "white",
                          "minorgridcolor": "white",
                          "startlinecolor": "#2a3f5f"
                        },
                        "baxis": {
                          "endlinecolor": "#2a3f5f",
                          "gridcolor": "white",
                          "linecolor": "white",
                          "minorgridcolor": "white",
                          "startlinecolor": "#2a3f5f"
                        },
                        "type": "carpet"
                      }
                    ],
                    "choropleth": [
                      {
                        "colorbar": {
                          "outlinewidth": 0,
                          "ticks": ""
                        },
                        "type": "choropleth"
                      }
                    ],
                    "contour": [
                      {
                        "colorbar": {
                          "outlinewidth": 0,
                          "ticks": ""
                        },
                        "colorscale": [
                          [
                            0,
                            "#0d0887"
                          ],
                          [
                            0.1111111111111111,
                            "#46039f"
                          ],
                          [
                            0.2222222222222222,
                            "#7201a8"
                          ],
                          [
                            0.3333333333333333,
                            "#9c179e"
                          ],
                          [
                            0.4444444444444444,
                            "#bd3786"
                          ],
                          [
                            0.5555555555555556,
                            "#d8576b"
                          ],
                          [
                            0.6666666666666666,
                            "#ed7953"
                          ],
                          [
                            0.7777777777777778,
                            "#fb9f3a"
                          ],
                          [
                            0.8888888888888888,
                            "#fdca26"
                          ],
                          [
                            1,
                            "#f0f921"
                          ]
                        ],
                        "type": "contour"
                      }
                    ],
                    "contourcarpet": [
                      {
                        "colorbar": {
                          "outlinewidth": 0,
                          "ticks": ""
                        },
                        "type": "contourcarpet"
                      }
                    ],
                    "heatmap": [
                      {
                        "colorbar": {
                          "outlinewidth": 0,
                          "ticks": ""
                        },
                        "colorscale": [
                          [
                            0,
                            "#0d0887"
                          ],
                          [
                            0.1111111111111111,
                            "#46039f"
                          ],
                          [
                            0.2222222222222222,
                            "#7201a8"
                          ],
                          [
                            0.3333333333333333,
                            "#9c179e"
                          ],
                          [
                            0.4444444444444444,
                            "#bd3786"
                          ],
                          [
                            0.5555555555555556,
                            "#d8576b"
                          ],
                          [
                            0.6666666666666666,
                            "#ed7953"
                          ],
                          [
                            0.7777777777777778,
                            "#fb9f3a"
                          ],
                          [
                            0.8888888888888888,
                            "#fdca26"
                          ],
                          [
                            1,
                            "#f0f921"
                          ]
                        ],
                        "type": "heatmap"
                      }
                    ],
                    "heatmapgl": [
                      {
                        "colorbar": {
                          "outlinewidth": 0,
                          "ticks": ""
                        },
                        "colorscale": [
                          [
                            0,
                            "#0d0887"
                          ],
                          [
                            0.1111111111111111,
                            "#46039f"
                          ],
                          [
                            0.2222222222222222,
                            "#7201a8"
                          ],
                          [
                            0.3333333333333333,
                            "#9c179e"
                          ],
                          [
                            0.4444444444444444,
                            "#bd3786"
                          ],
                          [
                            0.5555555555555556,
                            "#d8576b"
                          ],
                          [
                            0.6666666666666666,
                            "#ed7953"
                          ],
                          [
                            0.7777777777777778,
                            "#fb9f3a"
                          ],
                          [
                            0.8888888888888888,
                            "#fdca26"
                          ],
                          [
                            1,
                            "#f0f921"
                          ]
                        ],
                        "type": "heatmapgl"
                      }
                    ],
                    "histogram": [
                      {
                        "marker": {
                          "pattern": {
                            "fillmode": "overlay",
                            "size": 10,
                            "solidity": 0.2
                          }
                        },
                        "type": "histogram"
                      }
                    ],
                    "histogram2d": [
                      {
                        "colorbar": {
                          "outlinewidth": 0,
                          "ticks": ""
                        },
                        "colorscale": [
                          [
                            0,
                            "#0d0887"
                          ],
                          [
                            0.1111111111111111,
                            "#46039f"
                          ],
                          [
                            0.2222222222222222,
                            "#7201a8"
                          ],
                          [
                            0.3333333333333333,
                            "#9c179e"
                          ],
                          [
                            0.4444444444444444,
                            "#bd3786"
                          ],
                          [
                            0.5555555555555556,
                            "#d8576b"
                          ],
                          [
                            0.6666666666666666,
                            "#ed7953"
                          ],
                          [
                            0.7777777777777778,
                            "#fb9f3a"
                          ],
                          [
                            0.8888888888888888,
                            "#fdca26"
                          ],
                          [
                            1,
                            "#f0f921"
                          ]
                        ],
                        "type": "histogram2d"
                      }
                    ],
                    "histogram2dcontour": [
                      {
                        "colorbar": {
                          "outlinewidth": 0,
                          "ticks": ""
                        },
                        "colorscale": [
                          [
                            0,
                            "#0d0887"
                          ],
                          [
                            0.1111111111111111,
                            "#46039f"
                          ],
                          [
                            0.2222222222222222,
                            "#7201a8"
                          ],
                          [
                            0.3333333333333333,
                            "#9c179e"
                          ],
                          [
                            0.4444444444444444,
                            "#bd3786"
                          ],
                          [
                            0.5555555555555556,
                            "#d8576b"
                          ],
                          [
                            0.6666666666666666,
                            "#ed7953"
                          ],
                          [
                            0.7777777777777778,
                            "#fb9f3a"
                          ],
                          [
                            0.8888888888888888,
                            "#fdca26"
                          ],
                          [
                            1,
                            "#f0f921"
                          ]
                        ],
                        "type": "histogram2dcontour"
                      }
                    ],
                    "mesh3d": [
                      {
                        "colorbar": {
                          "outlinewidth": 0,
                          "ticks": ""
                        },
                        "type": "mesh3d"
                      }
                    ],
                    "parcoords": [
                      {
                        "line": {
                          "colorbar": {
                            "outlinewidth": 0,
                            "ticks": ""
                          }
                        },
                        "type": "parcoords"
                      }
                    ],
                    "pie": [
                      {
                        "automargin": true,
                        "type": "pie"
                      }
                    ],
                    "scatter": [
                      {
                        "fillpattern": {
                          "fillmode": "overlay",
                          "size": 10,
                          "solidity": 0.2
                        },
                        "type": "scatter"
                      }
                    ],
                    "scatter3d": [
                      {
                        "line": {
                          "colorbar": {
                            "outlinewidth": 0,
                            "ticks": ""
                          }
                        },
                        "marker": {
                          "colorbar": {
                            "outlinewidth": 0,
                            "ticks": ""
                          }
                        },
                        "type": "scatter3d"
                      }
                    ],
                    "scattercarpet": [
                      {
                        "marker": {
                          "colorbar": {
                            "outlinewidth": 0,
                            "ticks": ""
                          }
                        },
                        "type": "scattercarpet"
                      }
                    ],
                    "scattergeo": [
                      {
                        "marker": {
                          "colorbar": {
                            "outlinewidth": 0,
                            "ticks": ""
                          }
                        },
                        "type": "scattergeo"
                      }
                    ],
                    "scattergl": [
                      {
                        "marker": {
                          "colorbar": {
                            "outlinewidth": 0,
                            "ticks": ""
                          }
                        },
                        "type": "scattergl"
                      }
                    ],
                    "scattermapbox": [
                      {
                        "marker": {
                          "colorbar": {
                            "outlinewidth": 0,
                            "ticks": ""
                          }
                        },
                        "type": "scattermapbox"
                      }
                    ],
                    "scatterpolar": [
                      {
                        "marker": {
                          "colorbar": {
                            "outlinewidth": 0,
                            "ticks": ""
                          }
                        },
                        "type": "scatterpolar"
                      }
                    ],
                    "scatterpolargl": [
                      {
                        "marker": {
                          "colorbar": {
                            "outlinewidth": 0,
                            "ticks": ""
                          }
                        },
                        "type": "scatterpolargl"
                      }
                    ],
                    "scatterternary": [
                      {
                        "marker": {
                          "colorbar": {
                            "outlinewidth": 0,
                            "ticks": ""
                          }
                        },
                        "type": "scatterternary"
                      }
                    ],
                    "surface": [
                      {
                        "colorbar": {
                          "outlinewidth": 0,
                          "ticks": ""
                        },
                        "colorscale": [
                          [
                            0,
                            "#0d0887"
                          ],
                          [
                            0.1111111111111111,
                            "#46039f"
                          ],
                          [
                            0.2222222222222222,
                            "#7201a8"
                          ],
                          [
                            0.3333333333333333,
                            "#9c179e"
                          ],
                          [
                            0.4444444444444444,
                            "#bd3786"
                          ],
                          [
                            0.5555555555555556,
                            "#d8576b"
                          ],
                          [
                            0.6666666666666666,
                            "#ed7953"
                          ],
                          [
                            0.7777777777777778,
                            "#fb9f3a"
                          ],
                          [
                            0.8888888888888888,
                            "#fdca26"
                          ],
                          [
                            1,
                            "#f0f921"
                          ]
                        ],
                        "type": "surface"
                      }
                    ],
                    "table": [
                      {
                        "cells": {
                          "fill": {
                            "color": "#EBF0F8"
                          },
                          "line": {
                            "color": "white"
                          }
                        },
                        "header": {
                          "fill": {
                            "color": "#C8D4E3"
                          },
                          "line": {
                            "color": "white"
                          }
                        },
                        "type": "table"
                      }
                    ]
                  },
                  "layout": {
                    "annotationdefaults": {
                      "arrowcolor": "#2a3f5f",
                      "arrowhead": 0,
                      "arrowwidth": 1
                    },
                    "autotypenumbers": "strict",
                    "coloraxis": {
                      "colorbar": {
                        "outlinewidth": 0,
                        "ticks": ""
                      }
                    },
                    "colorscale": {
                      "diverging": [
                        [
                          0,
                          "#8e0152"
                        ],
                        [
                          0.1,
                          "#c51b7d"
                        ],
                        [
                          0.2,
                          "#de77ae"
                        ],
                        [
                          0.3,
                          "#f1b6da"
                        ],
                        [
                          0.4,
                          "#fde0ef"
                        ],
                        [
                          0.5,
                          "#f7f7f7"
                        ],
                        [
                          0.6,
                          "#e6f5d0"
                        ],
                        [
                          0.7,
                          "#b8e186"
                        ],
                        [
                          0.8,
                          "#7fbc41"
                        ],
                        [
                          0.9,
                          "#4d9221"
                        ],
                        [
                          1,
                          "#276419"
                        ]
                      ],
                      "sequential": [
                        [
                          0,
                          "#0d0887"
                        ],
                        [
                          0.1111111111111111,
                          "#46039f"
                        ],
                        [
                          0.2222222222222222,
                          "#7201a8"
                        ],
                        [
                          0.3333333333333333,
                          "#9c179e"
                        ],
                        [
                          0.4444444444444444,
                          "#bd3786"
                        ],
                        [
                          0.5555555555555556,
                          "#d8576b"
                        ],
                        [
                          0.6666666666666666,
                          "#ed7953"
                        ],
                        [
                          0.7777777777777778,
                          "#fb9f3a"
                        ],
                        [
                          0.8888888888888888,
                          "#fdca26"
                        ],
                        [
                          1,
                          "#f0f921"
                        ]
                      ],
                      "sequentialminus": [
                        [
                          0,
                          "#0d0887"
                        ],
                        [
                          0.1111111111111111,
                          "#46039f"
                        ],
                        [
                          0.2222222222222222,
                          "#7201a8"
                        ],
                        [
                          0.3333333333333333,
                          "#9c179e"
                        ],
                        [
                          0.4444444444444444,
                          "#bd3786"
                        ],
                        [
                          0.5555555555555556,
                          "#d8576b"
                        ],
                        [
                          0.6666666666666666,
                          "#ed7953"
                        ],
                        [
                          0.7777777777777778,
                          "#fb9f3a"
                        ],
                        [
                          0.8888888888888888,
                          "#fdca26"
                        ],
                        [
                          1,
                          "#f0f921"
                        ]
                      ]
                    },
                    "colorway": [
                      "#636efa",
                      "#EF553B",
                      "#00cc96",
                      "#ab63fa",
                      "#FFA15A",
                      "#19d3f3",
                      "#FF6692",
                      "#B6E880",
                      "#FF97FF",
                      "#FECB52"
                    ],
                    "font": {
                      "color": "#2a3f5f"
                    },
                    "geo": {
                      "bgcolor": "white",
                      "lakecolor": "white",
                      "landcolor": "#E5ECF6",
                      "showlakes": true,
                      "showland": true,
                      "subunitcolor": "white"
                    },
                    "hoverlabel": {
                      "align": "left"
                    },
                    "hovermode": "closest",
                    "mapbox": {
                      "style": "light"
                    },
                    "paper_bgcolor": "white",
                    "plot_bgcolor": "#E5ECF6",
                    "polar": {
                      "angularaxis": {
                        "gridcolor": "white",
                        "linecolor": "white",
                        "ticks": ""
                      },
                      "bgcolor": "#E5ECF6",
                      "radialaxis": {
                        "gridcolor": "white",
                        "linecolor": "white",
                        "ticks": ""
                      }
                    },
                    "scene": {
                      "xaxis": {
                        "backgroundcolor": "#E5ECF6",
                        "gridcolor": "white",
                        "gridwidth": 2,
                        "linecolor": "white",
                        "showbackground": true,
                        "ticks": "",
                        "zerolinecolor": "white"
                      },
                      "yaxis": {
                        "backgroundcolor": "#E5ECF6",
                        "gridcolor": "white",
                        "gridwidth": 2,
                        "linecolor": "white",
                        "showbackground": true,
                        "ticks": "",
                        "zerolinecolor": "white"
                      },
                      "zaxis": {
                        "backgroundcolor": "#E5ECF6",
                        "gridcolor": "white",
                        "gridwidth": 2,
                        "linecolor": "white",
                        "showbackground": true,
                        "ticks": "",
                        "zerolinecolor": "white"
                      }
                    },
                    "shapedefaults": {
                      "line": {
                        "color": "#2a3f5f"
                      }
                    },
                    "ternary": {
                      "aaxis": {
                        "gridcolor": "white",
                        "linecolor": "white",
                        "ticks": ""
                      },
                      "baxis": {
                        "gridcolor": "white",
                        "linecolor": "white",
                        "ticks": ""
                      },
                      "bgcolor": "#E5ECF6",
                      "caxis": {
                        "gridcolor": "white",
                        "linecolor": "white",
                        "ticks": ""
                      }
                    },
                    "title": {
                      "x": 0.05
                    },
                    "xaxis": {
                      "automargin": true,
                      "gridcolor": "white",
                      "linecolor": "white",
                      "ticks": "",
                      "title": {
                        "standoff": 15
                      },
                      "zerolinecolor": "white",
                      "zerolinewidth": 2
                    },
                    "yaxis": {
                      "automargin": true,
                      "gridcolor": "white",
                      "linecolor": "white",
                      "ticks": "",
                      "title": {
                        "standoff": 15
                      },
                      "zerolinecolor": "white",
                      "zerolinewidth": 2
                    }
                  }
                },
                "title": {
                  "text": "Média Salarial por Senioridade"
                },
                "xaxis": {
                  "anchor": "y",
                  "domain": [
                    0,
                    1
                  ],
                  "title": {
                    "text": "nível_de_experiência"
                  }
                },
                "yaxis": {
                  "anchor": "x",
                  "domain": [
                    0,
                    1
                  ],
                  "title": {
                    "text": "salário_em_usd"
                  }
                }
              }
            }
          },
          "metadata": {},
          "output_type": "display_data"
        }
      ],
      "source": [
        "senioridade_media_salarial = df_limpo.groupby(\"nível_de_experiência\")[\"salário_em_usd\"].mean().sort_values(ascending=False).reset_index()\n",
        "fig = px.bar(senioridade_media_salarial,\n",
        "             x=\"nível_de_experiência\",\n",
        "             y=\"salário_em_usd\",\n",
        "             title=\"Média Salarial por Senioridade\",\n",
        "             )\n",
        "fig.show()"
      ]
    },
    {
      "cell_type": "code",
      "execution_count": 35,
      "metadata": {},
      "outputs": [],
      "source": [
        "df_limpo.to_csv(\"salarios_limpo.csv\", index=False) #exportar o arquivo limpo para csv"
      ]
    }
  ],
  "metadata": {
    "colab": {
      "authorship_tag": "ABX9TyNirZupfE/zgFwuJMFC/TPL",
      "include_colab_link": true,
      "provenance": []
    },
    "kernelspec": {
      "display_name": "base",
      "language": "python",
      "name": "python3"
    },
    "language_info": {
      "codemirror_mode": {
        "name": "ipython",
        "version": 3
      },
      "file_extension": ".py",
      "mimetype": "text/x-python",
      "name": "python",
      "nbconvert_exporter": "python",
      "pygments_lexer": "ipython3",
      "version": "3.12.7"
    }
  },
  "nbformat": 4,
  "nbformat_minor": 0
}
